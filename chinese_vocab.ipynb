{
 "cells": [
  {
   "cell_type": "markdown",
   "metadata": {},
   "source": [
    "# Chinese vocab for HSK level 1"
   ]
  },
  {
   "cell_type": "code",
   "execution_count": null,
   "metadata": {},
   "outputs": [],
   "source": [
    "\"\"\"\n",
    "This is just a mix of me learning python and chinese at the same time.\n",
    "Now I'm just tryig different ways of creating dataframe of vocab to remember.\n",
    "\"\"\"\n",
    "\n",
    "import numpy as np\n",
    "import pandas as pd"
   ]
  },
  {
   "cell_type": "markdown",
   "metadata": {},
   "source": [
    "## Day 1"
   ]
  },
  {
   "cell_type": "code",
   "execution_count": null,
   "metadata": {},
   "outputs": [],
   "source": [
    "# create a list of list for vocab in day 1\n",
    "day_1 = [[\"叫\", \"jiao4\", \"Verb\", \"to be called\"], \n",
    "         [\"姓\", \"xing4\", \"Noun/Verb\", \"surname, one's familily name is\"],\n",
    "         [\"名字\", \"ming2zi\", \"Noun\", \"name\"],\n",
    "         [\"哪国人\", \"na3guo2ren2\", \"Phrase\", \"a person of which country\"],\n",
    "         [\"你\", \"ni3\", \"Pronoun\", \"you\"],\n",
    "         [\"我\", \"wo3\", \"Pronoun\", \"I, me\"],\n",
    "         [\"认识你很高兴\", \"ren4shi4 ni3 hen3 gao1xing4\", \"Phrase\", \"It's nice to meet you\"],\n",
    "         [\"是\", \"shi4\", \"Verb\", \"is\"],\n",
    "         [\"美国\", \"Mei3guo2\", \"Noun\", \"United States\"],\n",
    "         [\"中国\", \"Zhong1guo2\", \"Noun\", \"China\"],\n",
    "         [\"忙\", \"mang2\", \"Adj\", \"busy\"],\n",
    "         [\"累\", \"lei4\", \"Adj\", \"tired, tiring\"],\n",
    "         [\"好\", \"hao3\", \"Adj\", \"good\"],\n",
    "         [\"你们\", \"ni3men\", \"Pronoun\", \"you (plural), y'all\"],\n",
    "         [\"学生\", \"xue2sheng1\", \"Noun\", \"student, students\"],\n",
    "         [\"老师\", \"lao3shi1\", \"Noun\", \"teacher\"],\n",
    "         [\"再见\", \"zai4jian4\", \"Phrase\", \"goodbye\"]]\n",
    "\n",
    "# create pandas dataframe from list day_1\n",
    "df_day_1 = pd.DataFrame(day_1, columns=[\"Chinese\", \"Pinyin\", \"Part of speech\", \"English\"])\n",
    "# to set index starting from 1 instead of 0\n",
    "df_day_1.index = df_day_1.index + 1\n",
    "\n",
    "# summarise the number of words learned\n",
    "print(\"Total words learned in day 1 are \" + str(len(df_day_1)) + \" words\\n\")\n",
    "\n",
    "# display df_day_1 to check\n",
    "display(df_day_1)"
   ]
  },
  {
   "cell_type": "markdown",
   "metadata": {},
   "source": [
    "## Day 2"
   ]
  },
  {
   "cell_type": "code",
   "execution_count": null,
   "metadata": {
    "scrolled": true
   },
   "outputs": [],
   "source": [
    "# create numpy array for vocab in day 2\n",
    "arr_day_2 = np.array([[\"日本\", \"Ri4ben3\", \"Noun\", \"Japan\"], \n",
    "                      [\"他\", \"ta1\", \"Pronoun\", \"He, him\"],\n",
    "                      [\"要\", \"yao4\", \"Verb\", \"to want\"],\n",
    "                      [\"喜欢\", \"xi3huan\", \"Verb\", \"to like\"],\n",
    "                      [\"喝\", \"he1\", \"Verb\", \"to drink\"],\n",
    "                      [\"吃\", \"chi1\", \"Verb\", \"to eat\"],\n",
    "                      [\"咖啡\", \"ka1fei1\", \"Noun\", \"coffee\"],\n",
    "                      [\"菜\", \"cai4\", \"Noun\", \"dish, cuisine\"],\n",
    "                      [\"茶\", \"cha2\", \"Noun\", \"tea\"],\n",
    "                      [\"口\", \"kou3\", \"Measure word\", \"measure word for family member\"],\n",
    "                      [\"个\", \"ge4\", \"Measure word\", \"general measure word, measure word for people\"],\n",
    "                      [\"爸爸\", \"ba4ba\", \"Noun\", \"father\"],\n",
    "                      [\"妈妈\", \"ma1ma\", \"Noun\", \"mother\"],\n",
    "                      [\"哥哥\", \"ge1ge\", \"Noun\", \"older brother\"],\n",
    "                      [\"姐姐\", \"jie3jie\", \"Noun\", \"older sister\"],\n",
    "                      [\"弟弟\", \"di4di\", \"Noun\", \"younger brother\"],\n",
    "                      [\"妹妹\", \"mei4mei\", \"Noun\", \"younger sister\"]])\n",
    "\n",
    "# create pandas dataframe from numpy array arr_day_2\n",
    "df_day_2 = pd.DataFrame(arr_day_2, columns=[\"Chinese\", \"Pinyin\", \"Part of speech\", \"English\"])\n",
    "#to set index starting from 1 instead of 0\n",
    "df_day_2.index = df_day_2.index + 1\n",
    "\n",
    "# summarise the number of words learned\n",
    "print(\"Total words learned in day 2 are \" + str(len(df_day_2)) + \" words\\n\")\n",
    "\n",
    "# display df_day_2 to check\n",
    "display(df_day_2)"
   ]
  },
  {
   "cell_type": "markdown",
   "metadata": {},
   "source": [
    "# Day 3"
   ]
  },
  {
   "cell_type": "code",
   "execution_count": null,
   "metadata": {},
   "outputs": [],
   "source": [
    "# create a dictionary of list for vocab in day 3\n",
    "day_3 = {\"Chinese\": [\"家\", \"和\", \"谁\", \"狗\", \"好看\", \"书\", \"兄弟姐妹\", \"房子\", \"家人\", \"价绍\", \"漂亮\", \"张\"],\n",
    "         \"Pinyin\": [\"jia1\", \"he2\", \"shei2\", \"gou3\", \"hao3kan4\", \"shu1\", \"xiong1di4 jie3mei4\", \"fang2zi\",\n",
    "                    \"jia1ren2\", \"jie4shao4\", \"paio4liang4\", \"zhang1\"], \n",
    "         \"Part of speech\": [\"Noun\", \"Conj\", \"Pronoun\", \"Noun\", \"Adj\", \"Noun\", \"Noun\", \"Noun\", \"Noun\", \n",
    "                            \"Verb\", \"Adj\", \"Measure word\"], \n",
    "         \"English\": [\"home, family\", \"and\", \"who\", \"dog\", \"good-looking\", \"book, books\", \"siblings\", \n",
    "                     \"house\", \"famility member\", \"to introduce\", \"beautiful\", \n",
    "                     \"a measure word for photograph, picture, paper, table etc.\"]}\n",
    "\n",
    "# create pandas dataframe from dictionary day_3\n",
    "df_day_3 = pd.DataFrame(day_3)\n",
    "# to set index starting from 1 instead of 0\n",
    "df_day_3.index = df_day_3.index + 1\n",
    "\n",
    "# summarise the number of words learned\n",
    "print(\"Total words learned in day 3 are \" + str(len(df_day_3)) + \" words\\n\")\n",
    "\n",
    "# display df_day_1 to check\n",
    "display(df_day_3)"
   ]
  },
  {
   "cell_type": "markdown",
   "metadata": {},
   "source": [
    "## Total words learned"
   ]
  },
  {
   "cell_type": "code",
   "execution_count": null,
   "metadata": {},
   "outputs": [],
   "source": [
    "# concatenate all dataframes to show total words learned so far\n",
    "frames = [df_day_1, df_day_2, df_day_3] #create a list of all dataframes\n",
    "all_words = pd.concat(frames, ignore_index=True) #concatenate the list frames, ignore_index will reset the index to 0 to n-1\n",
    "all_words.index = all_words.index + 1 #to set index starting from 1 instead of 0\n",
    "# summarise the number of words learned\n",
    "print(\"Total words learned so far are \" + str(len(all_words)) + \" words\\n\")\n",
    "\n",
    "# display all_words to check\n",
    "display(all_words)"
   ]
  },
  {
   "cell_type": "markdown",
   "metadata": {},
   "source": [
    "## Quiz"
   ]
  },
  {
   "cell_type": "code",
   "execution_count": null,
   "metadata": {},
   "outputs": [],
   "source": [
    "\"\"\"\n",
    "This will randomise an English meaning of a Chinese word learned before. \n",
    "You will need to give an input of such Chinese word until it is correct.\n",
    "\"\"\"\n",
    "\n",
    "# randomise an integer from 1 to the total number of words learned\n",
    "rand_num = np.random.randint(1, len(all_words) + 1, 1)\n",
    "# store a randomised word in both English and Chinese\n",
    "eng_word = all_words['English'][rand_num].to_string(index=False)\n",
    "chn_word = all_words['Chinese'][rand_num].to_string(index=False)\n",
    "\n",
    "# show the English meaning, then check whether an input agree to the Chinese word stored\n",
    "print(\"Please specify a Chinese word that means \\033[4m\" + eng_word)\n",
    "answer = input()\n",
    "while answer != chn_word:\n",
    "    print(\"Incorrect! Please try again\")\n",
    "    answer = input()\n",
    "else: print(\"Correct!\")"
   ]
  },
  {
   "cell_type": "code",
   "execution_count": null,
   "metadata": {},
   "outputs": [],
   "source": []
  }
 ],
 "metadata": {
  "kernelspec": {
   "display_name": "Python 3",
   "language": "python",
   "name": "python3"
  },
  "language_info": {
   "codemirror_mode": {
    "name": "ipython",
    "version": 3
   },
   "file_extension": ".py",
   "mimetype": "text/x-python",
   "name": "python",
   "nbconvert_exporter": "python",
   "pygments_lexer": "ipython3",
   "version": "3.9.1"
  }
 },
 "nbformat": 4,
 "nbformat_minor": 4
}
